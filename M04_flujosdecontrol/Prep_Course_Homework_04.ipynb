{
 "cells": [
  {
   "attachments": {},
   "cell_type": "markdown",
   "metadata": {},
   "source": [
    "## Flujos de Control"
   ]
  },
  {
   "attachments": {},
   "cell_type": "markdown",
   "metadata": {},
   "source": [
    "1) Crear una variable que contenga un elemento del conjunto de números enteros y luego imprimir por pantalla si es mayor o menor a cero"
   ]
  },
  {
   "cell_type": "code",
   "execution_count": 3,
   "metadata": {},
   "outputs": [
    {
     "name": "stdout",
     "output_type": "stream",
     "text": [
      "La variable es mayor a cero\n"
     ]
    }
   ],
   "source": [
    "a = 10\n",
    "if a > 0:\n",
    "    print(f'La variable es mayor a cero')\n",
    "else:\n",
    "    print(f'La variable es menor o igual a cero')\n"
   ]
  },
  {
   "attachments": {},
   "cell_type": "markdown",
   "metadata": {},
   "source": [
    "2) Crear dos variables y un condicional que informe si son del mismo tipo de dato"
   ]
  },
  {
   "cell_type": "code",
   "execution_count": 5,
   "metadata": {},
   "outputs": [
    {
     "name": "stdout",
     "output_type": "stream",
     "text": [
      "No son del mismo tipo\n"
     ]
    }
   ],
   "source": [
    "b = 12\n",
    "c = 'hola'\n",
    "if b == c:\n",
    "    print(f'b es del mismo tipo que c ')\n",
    "else:\n",
    "    print(f'No son del mismo tipo')"
   ]
  },
  {
   "attachments": {},
   "cell_type": "markdown",
   "metadata": {},
   "source": [
    "3) Para los valores enteros del 1 al 20, imprimir por pantalla si es par o impar"
   ]
  },
  {
   "cell_type": "code",
   "execution_count": 6,
   "metadata": {},
   "outputs": [
    {
     "name": "stdout",
     "output_type": "stream",
     "text": [
      "El elemento 1 es impar\n",
      "El elemento 2 es par\n",
      "El elemento 3 es impar\n",
      "El elemento 4 es par\n",
      "El elemento 5 es impar\n",
      "El elemento 6 es par\n",
      "El elemento 7 es impar\n",
      "El elemento 8 es par\n",
      "El elemento 9 es impar\n",
      "El elemento 10 es par\n",
      "El elemento 11 es impar\n",
      "El elemento 12 es par\n",
      "El elemento 13 es impar\n",
      "El elemento 14 es par\n",
      "El elemento 15 es impar\n",
      "El elemento 16 es par\n",
      "El elemento 17 es impar\n",
      "El elemento 18 es par\n",
      "El elemento 19 es impar\n",
      "El elemento 20 es par\n"
     ]
    }
   ],
   "source": [
    "for i in range(1,21):\n",
    "    if i % 2 == 0:\n",
    "        print(f'El elemento {i} es par')\n",
    "    else:\n",
    "        print(f'El elemento {i} es impar')"
   ]
  },
  {
   "attachments": {},
   "cell_type": "markdown",
   "metadata": {},
   "source": [
    "4) En un ciclo for mostrar para los valores entre 0 y 5 el resultado de elevarlo a la potencia igual a 3"
   ]
  },
  {
   "cell_type": "code",
   "execution_count": 7,
   "metadata": {},
   "outputs": [
    {
     "name": "stdout",
     "output_type": "stream",
     "text": [
      " El resultado de elevar 0 a la potencia de 3 es: 0\n",
      " El resultado de elevar 1 a la potencia de 3 es: 1\n",
      " El resultado de elevar 2 a la potencia de 3 es: 8\n",
      " El resultado de elevar 3 a la potencia de 3 es: 27\n",
      " El resultado de elevar 4 a la potencia de 3 es: 64\n",
      " El resultado de elevar 5 a la potencia de 3 es: 125\n"
     ]
    }
   ],
   "source": [
    "for i in range (0,6):\n",
    "    print( f' El resultado de elevar {i} a la potencia de 3 es: {i ** 3}')"
   ]
  },
  {
   "attachments": {},
   "cell_type": "markdown",
   "metadata": {},
   "source": [
    "5) Crear una variable que contenga un número entero y realizar un ciclo for la misma cantidad de ciclos"
   ]
  },
  {
   "cell_type": "code",
   "execution_count": 8,
   "metadata": {},
   "outputs": [
    {
     "name": "stdout",
     "output_type": "stream",
     "text": [
      "Ciclo for numero 0\n",
      "Ciclo for numero 1\n",
      "Ciclo for numero 2\n",
      "Ciclo for numero 3\n",
      "Ciclo for numero 4\n",
      "Ciclo for numero 5\n"
     ]
    }
   ],
   "source": [
    "var1 = 5\n",
    "for i in range (0,6):\n",
    "    print(f'Ciclo for numero {i}')"
   ]
  },
  {
   "attachments": {},
   "cell_type": "markdown",
   "metadata": {},
   "source": [
    "6) Utilizar un ciclo while para realizar el factorial de un número guardado en una variable, sólo si la variable contiene un número entero mayor a 0"
   ]
  },
  {
   "cell_type": "code",
   "execution_count": 12,
   "metadata": {},
   "outputs": [
    {
     "name": "stdout",
     "output_type": "stream",
     "text": [
      "El factorial de 5 es: 120\n"
     ]
    }
   ],
   "source": [
    "valor_inicial = 5\n",
    "num = 5\n",
    "factorial = num\n",
    "\n",
    "while num >= 2:\n",
    "    if type(num) == int:\n",
    "        \n",
    "        num-=1\n",
    "        factorial= (factorial * num) \n",
    "        \n",
    "print(f'El factorial de {valor_inicial} es: {factorial}')\n"
   ]
  },
  {
   "cell_type": "code",
   "execution_count": 39,
   "metadata": {},
   "outputs": [
    {
     "name": "stdout",
     "output_type": "stream",
     "text": [
      "El factorial de 5 es : 120\n"
     ]
    }
   ],
   "source": [
    "valor_inicial = 5\n",
    "factorial = 1\n",
    "\n",
    "for i in range(1, valor_inicial + 1):\n",
    "    factorial *= i\n",
    "\n",
    "print(f'El factorial de {valor_inicial} es : {factorial}')\n"
   ]
  },
  {
   "attachments": {},
   "cell_type": "markdown",
   "metadata": {},
   "source": [
    "7) Crear un ciclo for dentro de un ciclo while"
   ]
  },
  {
   "cell_type": "code",
   "execution_count": 48,
   "metadata": {},
   "outputs": [
    {
     "name": "stdout",
     "output_type": "stream",
     "text": [
      "2\n",
      "4\n",
      "6\n",
      "8\n",
      "10\n"
     ]
    }
   ],
   "source": [
    "num1 = 2\n",
    "elementos = 1,2,3,4,5\n",
    "\n",
    "while num1 < 6:\n",
    "    for i in elementos:\n",
    "        multiplicacion = num1 * i\n",
    "        print(multiplicacion)\n",
    "    break"
   ]
  },
  {
   "attachments": {},
   "cell_type": "markdown",
   "metadata": {},
   "source": [
    "8) Crear un ciclo while dentro de un ciclo for"
   ]
  },
  {
   "cell_type": "code",
   "execution_count": 62,
   "metadata": {},
   "outputs": [
    {
     "name": "stdout",
     "output_type": "stream",
     "text": [
      "Ciclo for nro: 0\n",
      "Ciclo while nro: 0\n",
      "Ciclo while nro: 2\n",
      "Ciclo while nro: 4\n",
      "Ciclo while nro: 6\n",
      "Ciclo for nro: 1\n",
      "Ciclo while nro: 0\n",
      "Ciclo while nro: 2\n",
      "Ciclo while nro: 4\n",
      "Ciclo while nro: 6\n",
      "Ciclo for nro: 2\n",
      "Ciclo while nro: 0\n",
      "Ciclo while nro: 2\n",
      "Ciclo while nro: 4\n",
      "Ciclo while nro: 6\n",
      "Ciclo for nro: 3\n",
      "Ciclo while nro: 0\n",
      "Ciclo while nro: 2\n",
      "Ciclo while nro: 4\n",
      "Ciclo while nro: 6\n",
      "Ciclo for nro: 4\n",
      "Ciclo while nro: 0\n",
      "Ciclo while nro: 2\n",
      "Ciclo while nro: 4\n",
      "Ciclo while nro: 6\n",
      "Ciclo for nro: 5\n",
      "Ciclo while nro: 0\n",
      "Ciclo while nro: 2\n",
      "Ciclo while nro: 4\n",
      "Ciclo while nro: 6\n"
     ]
    }
   ],
   "source": [
    "for i in range(0,6):\n",
    "    print(f'Ciclo for nro: {i}')\n",
    "    num1 = 0\n",
    "    while num1 <= 6:\n",
    "        print(f'Ciclo while nro: {num1}')\n",
    "        num1 +=2"
   ]
  },
  {
   "attachments": {},
   "cell_type": "markdown",
   "metadata": {},
   "source": [
    "9) Imprimir los números primos existentes entre 0 y 30"
   ]
  },
  {
   "cell_type": "code",
   "execution_count": 12,
   "metadata": {},
   "outputs": [
    {
     "name": "stdout",
     "output_type": "stream",
     "text": [
      "2\n",
      "3\n",
      "5\n",
      "7\n",
      "11\n",
      "13\n",
      "17\n",
      "19\n",
      "23\n",
      "29\n"
     ]
    }
   ],
   "source": [
    "\n",
    "tope= 30\n",
    "n= 0\n",
    "primo = True\n",
    "\n",
    "while n < tope:\n",
    "    if n <=1:\n",
    "            primo = False\n",
    "    for divisor in range (2,n):\n",
    "        \n",
    "        if (n % divisor == 0):\n",
    "            primo = False\n",
    "        \n",
    "        \n",
    "        \n",
    "    if primo:\n",
    "         \n",
    "        print(n)\n",
    "\n",
    "    else:\n",
    "        primo = True\n",
    "        \n",
    "    n+=1\n",
    "\n",
    "\n"
   ]
  },
  {
   "attachments": {},
   "cell_type": "markdown",
   "metadata": {},
   "source": [
    "10) ¿Se puede mejorar el proceso del punto 9? Utilizar las sentencias break y/ó continue para tal fin"
   ]
  },
  {
   "cell_type": "code",
   "execution_count": 39,
   "metadata": {},
   "outputs": [
    {
     "name": "stdout",
     "output_type": "stream",
     "text": [
      "2\n",
      "3\n",
      "5\n",
      "7\n",
      "11\n",
      "13\n",
      "17\n",
      "19\n",
      "23\n",
      "29\n",
      "Ciclos con break: 134\n"
     ]
    }
   ],
   "source": [
    "tope= 30\n",
    "n= 0\n",
    "primo = True\n",
    "ciclos_con_break =0\n",
    "\n",
    "while n < tope:\n",
    "    if n <=1:\n",
    "            primo = False\n",
    "    for divisor in range (2,n):\n",
    "        ciclos_con_break += 1\n",
    "        if (n % divisor == 0):\n",
    "            primo = False\n",
    "            break\n",
    "        \n",
    "        \n",
    "        \n",
    "    if primo:\n",
    "         \n",
    "        print(n)\n",
    "\n",
    "    else:\n",
    "        primo = True\n",
    "        \n",
    "    n+=1\n",
    "print(\"Ciclos con break:\", ciclos_con_break)"
   ]
  },
  {
   "attachments": {},
   "cell_type": "markdown",
   "metadata": {},
   "source": [
    "11) En los puntos 9 y 10, se diseño un código que encuentra números primos y además se lo optimizó. ¿Es posible saber en qué medida se optimizó?"
   ]
  },
  {
   "cell_type": "code",
   "execution_count": 46,
   "metadata": {},
   "outputs": [
    {
     "name": "stdout",
     "output_type": "stream",
     "text": [
      "2\n",
      "3\n",
      "5\n",
      "7\n",
      "11\n",
      "13\n",
      "17\n",
      "19\n",
      "23\n",
      "29\n",
      "Ciclos sin break: 378\n",
      "Se optimizó un % 35 utilizando el break en el codigo\n"
     ]
    }
   ],
   "source": [
    "tope= 30\n",
    "n= 0\n",
    "primo = True\n",
    "ciclos_sinbreak = 0\n",
    "\n",
    "while n < tope:\n",
    "    if n <=1:\n",
    "            primo = False\n",
    "    for divisor in range (2,n):\n",
    "        ciclos_sinbreak +=1\n",
    "        if (n % divisor == 0):\n",
    "            primo = False\n",
    "            \n",
    "        \n",
    "        \n",
    "    if primo:\n",
    "         \n",
    "        print(n)\n",
    "\n",
    "    else:\n",
    "        primo = True\n",
    "        \n",
    "    n+=1\n",
    "\n",
    "print ( f'Ciclos sin break: {ciclos_sinbreak}')\n",
    "print(\"Se optimizó un %\", int(ciclos_con_break/ciclos_sinbreak*100) , \"utilizando el break en el codigo\")"
   ]
  },
  {
   "attachments": {},
   "cell_type": "markdown",
   "metadata": {},
   "source": [
    "12) Aplicando continue, armar un ciclo while que solo imprima los valores divisibles por 12, dentro del rango de números de 100 a 300"
   ]
  },
  {
   "cell_type": "code",
   "execution_count": 5,
   "metadata": {},
   "outputs": [
    {
     "name": "stdout",
     "output_type": "stream",
     "text": [
      "El numero 108 es divisible por 12\n",
      "El numero 120 es divisible por 12\n",
      "El numero 132 es divisible por 12\n",
      "El numero 144 es divisible por 12\n",
      "El numero 156 es divisible por 12\n",
      "El numero 168 es divisible por 12\n",
      "El numero 180 es divisible por 12\n",
      "El numero 192 es divisible por 12\n",
      "El numero 204 es divisible por 12\n",
      "El numero 216 es divisible por 12\n",
      "El numero 228 es divisible por 12\n",
      "El numero 240 es divisible por 12\n",
      "El numero 252 es divisible por 12\n",
      "El numero 264 es divisible por 12\n",
      "El numero 276 es divisible por 12\n",
      "El numero 288 es divisible por 12\n",
      "El numero 300 es divisible por 12\n"
     ]
    }
   ],
   "source": [
    "\n",
    "n = 99\n",
    "\n",
    "while n <=300:\n",
    "    n +=1\n",
    "    if n % 12 == 0:\n",
    "        print (f'El numero {n} es divisible por 12')\n",
    "    else:\n",
    "        continue\n"
   ]
  },
  {
   "attachments": {},
   "cell_type": "markdown",
   "metadata": {},
   "source": [
    "13) Utilizar la función **input()** que permite hacer ingresos por teclado, para encontrar números primos y dar la opción al usario de buscar el siguiente"
   ]
  },
  {
   "cell_type": "code",
   "execution_count": 3,
   "metadata": {},
   "outputs": [
    {
     "name": "stdout",
     "output_type": "stream",
     "text": [
      "El numero 2 es primo\n",
      "¿Desea buscar el siguiente primo?\n",
      "El numero 3 es primo\n",
      "¿Desea buscar el siguiente primo?\n",
      "El numero 5 es primo\n",
      "¿Desea buscar el siguiente primo?\n",
      "El numero 7 es primo\n",
      "¿Desea buscar el siguiente primo?\n",
      "El numero 11 es primo\n",
      "¿Desea buscar el siguiente primo?\n",
      "El numero 13 es primo\n",
      "¿Desea buscar el siguiente primo?\n",
      "El numero 17 es primo\n",
      "¿Desea buscar el siguiente primo?\n",
      "Se detiene la busqueda\n"
     ]
    }
   ],
   "source": [
    "\n",
    "busca_primo = True\n",
    "n= 2\n",
    "primo = True\n",
    "\n",
    "while busca_primo:\n",
    "    for divisor in range (2,n):\n",
    "        if (n % divisor == 0):\n",
    "            primo = False\n",
    "            break\n",
    "        \n",
    "    if primo:\n",
    "        print(f'El numero {n} es primo')\n",
    "        print(f'¿Desea buscar el siguiente primo?')\n",
    "        continuar = input (\"Ingrese 'si' o 'no':\")\n",
    "\n",
    "        if continuar == 'no':\n",
    "            print (f'Se detiene la busqueda')\n",
    "            busca_primo = False\n",
    "            break      \n",
    "        \n",
    "    else:\n",
    "        primo = True\n",
    "        \n",
    "    n+=1\n"
   ]
  },
  {
   "attachments": {},
   "cell_type": "markdown",
   "metadata": {},
   "source": [
    "14) Crear un ciclo while que encuentre dentro del rango de 100 a 300 el primer número divisible por 3 y además múltiplo de 6"
   ]
  },
  {
   "cell_type": "code",
   "execution_count": 3,
   "metadata": {},
   "outputs": [
    {
     "name": "stdout",
     "output_type": "stream",
     "text": [
      "El primer numero divisible por 3 y multiplo de 6 encontrado es: 102\n"
     ]
    }
   ],
   "source": [
    "i = 100\n",
    "while i < 300:\n",
    "    if i % 6 == 0 :\n",
    "        print (f'El primer numero divisible por 3 y multiplo de 6 encontrado es: {i}')\n",
    "        break\n",
    "\n",
    "    i +=1"
   ]
  }
 ],
 "metadata": {
  "interpreter": {
   "hash": "c85384e4cb51c8b72350f3a8712cc8351fdc3955e32a27f9b60c6242ab125f01"
  },
  "kernelspec": {
   "display_name": "Python 3 (ipykernel)",
   "language": "python",
   "name": "python3"
  },
  "language_info": {
   "codemirror_mode": {
    "name": "ipython",
    "version": 3
   },
   "file_extension": ".py",
   "mimetype": "text/x-python",
   "name": "python",
   "nbconvert_exporter": "python",
   "pygments_lexer": "ipython3",
   "version": "3.12.0"
  }
 },
 "nbformat": 4,
 "nbformat_minor": 4
}
