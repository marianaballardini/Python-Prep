{
 "cells": [
  {
   "attachments": {},
   "cell_type": "markdown",
   "metadata": {},
   "source": [
    "## Funciones"
   ]
  },
  {
   "attachments": {},
   "cell_type": "markdown",
   "metadata": {},
   "source": [
    "1) Crear una función que reciba un número como parámetro y devuelva True si es primo y False si no lo es"
   ]
  },
  {
   "cell_type": "code",
   "execution_count": 10,
   "metadata": {},
   "outputs": [],
   "source": [
    "def primos (numero):\n",
    "    if numero== 0 or numero == 1:\n",
    "        return('Los primos son mayores a 1')\n",
    "    if numero == 2:\n",
    "        return True\n",
    "    for i in range (3,  int(numero ** 0.5) +1 ,2 ):\n",
    "        if numero % i == 0:\n",
    "            return False\n",
    "    else: \n",
    "        True\n",
    "\n",
    "\n",
    "\n",
    "\n",
    "def verifica_primo(nro):\n",
    "    es_primo = True\n",
    "    for i in range(2, nro):\n",
    "        if nro % i == 0:\n",
    "            es_primo = False\n",
    "            break\n",
    "    return es_primo\n",
    "\n",
    "\n",
    "\n",
    "    \n",
    "\n"
   ]
  },
  {
   "cell_type": "code",
   "execution_count": 26,
   "metadata": {},
   "outputs": [],
   "source": [
    "def primos(numero):\n",
    "    if numero == 0 or numero == 1:\n",
    "        return 'Los primos son mayores a 1'\n",
    "    if numero == 2:\n",
    "        return True\n",
    "    if numero % 2== 0 :\n",
    "        return False\n",
    "    for i in range(3, int(numero ** 0.5) + 1, 2):\n",
    "        if numero % i == 0:\n",
    "            return False\n",
    "    return True\n"
   ]
  },
  {
   "cell_type": "code",
   "execution_count": 27,
   "metadata": {},
   "outputs": [
    {
     "data": {
      "text/plain": [
       "True"
      ]
     },
     "execution_count": 27,
     "metadata": {},
     "output_type": "execute_result"
    }
   ],
   "source": [
    "primos(5)"
   ]
  },
  {
   "cell_type": "code",
   "execution_count": 28,
   "metadata": {},
   "outputs": [],
   "source": [
    "def verifica_primo(nro):\n",
    "    es_primo = True  # Variable para almacenar el resultado de la verificación de número primo\n",
    "    for i in range(2, nro):  # Iteración sobre los números desde 2 hasta nro-1\n",
    "        if nro % i == 0:  # Verificación si nro es divisible por i (no es primo)\n",
    "            es_primo = False  # Se marca la variable como False indicando que el número no es primo\n",
    "            break  # Se rompe el bucle ya que no es necesario continuar la verificación\n",
    "    return es_primo  # Se devuelve el resultado de la verificación de número primo"
   ]
  },
  {
   "cell_type": "code",
   "execution_count": 31,
   "metadata": {},
   "outputs": [
    {
     "data": {
      "text/plain": [
       "True"
      ]
     },
     "execution_count": 31,
     "metadata": {},
     "output_type": "execute_result"
    }
   ],
   "source": [
    "verifica_primo(5)"
   ]
  },
  {
   "attachments": {},
   "cell_type": "markdown",
   "metadata": {},
   "source": [
    "2) Utilizando la función del punto 1, realizar otra función que reciba de parámetro una lista de números y devuelva sólo aquellos que son primos en otra lista"
   ]
  },
  {
   "cell_type": "code",
   "execution_count": 34,
   "metadata": {},
   "outputs": [],
   "source": [
    "def extrae_primos(lista):\n",
    "    lista_primos=[]\n",
    "    for num in lista:  \n",
    "        if num == 0 or num == 1:\n",
    "            continue\n",
    "        if verifica_primo(int(num)):  \n",
    "            lista_primos.append(num)\n",
    "    return lista_primos\n"
   ]
  },
  {
   "cell_type": "code",
   "execution_count": 35,
   "metadata": {},
   "outputs": [
    {
     "data": {
      "text/plain": [
       "[2, 3, 5, 7, 11, 13, 17, 19, 23]"
      ]
     },
     "execution_count": 35,
     "metadata": {},
     "output_type": "execute_result"
    }
   ],
   "source": [
    "lista_completa= list(range(26))\n",
    "lista_primos=extrae_primos(lista_completa)\n",
    "lista_primos"
   ]
  },
  {
   "attachments": {},
   "cell_type": "markdown",
   "metadata": {},
   "source": [
    "3) Crear una función que al recibir una lista de números, devuelva el que más se repite y cuántas veces lo hace. Si hay más de un \"más repetido\", que devuelva cualquiera"
   ]
  },
  {
   "cell_type": "code",
   "execution_count": 2,
   "metadata": {},
   "outputs": [],
   "source": [
    "lista_nueva= [1,2,2,2,3,4,5,6,7,7,7,7,7,8,9,41,10,52,45,41,10]\n"
   ]
  },
  {
   "cell_type": "code",
   "execution_count": 25,
   "metadata": {},
   "outputs": [],
   "source": [
    "def modal (lista):\n",
    "    lista_repetidos = []\n",
    "    lista_unicos =[]\n",
    "    \n",
    "    for numero in lista:\n",
    "        if numero in lista_unicos:\n",
    "            i = lista_unicos.index(numero)\n",
    "            lista_repetidos[i] += 1\n",
    "        else:            \n",
    "            lista_unicos.append(numero)\n",
    "            lista_repetidos.append(1)\n",
    "\n",
    "        moda = lista_unicos [0]\n",
    "        maximo = lista_repetidos [0]\n",
    "\n",
    "        for i, numero in enumerate(lista_unicos):\n",
    "            if lista_repetidos [i] > maximo:\n",
    "                moda=lista_unicos[i]\n",
    "                maximo= lista_repetidos[i]\n",
    "        \n",
    "    return \"El valor modal es: \" + str(moda) + ', se repite '+ str(maximo)+  ' veces'        \n",
    "            \n"
   ]
  },
  {
   "cell_type": "code",
   "execution_count": null,
   "metadata": {},
   "outputs": [],
   "source": [
    "def valor_modal(lista):\n",
    "    lista_unicos = []\n",
    "    lista_repeticiones = []\n",
    "    if len(lista) == 0:\n",
    "        return None\n",
    "    for elemento in lista:\n",
    "        if elemento in lista_unicos:\n",
    "            i = lista_unicos.index(elemento)\n",
    "            lista_repeticiones[i] += 1\n",
    "        else:\n",
    "            lista_unicos.append(elemento)\n",
    "            lista_repeticiones.append(1)\n",
    "    moda = lista_unicos[0]\n",
    "    maximo = lista_repeticiones[0]\n",
    "    for i, elemento in enumerate(lista_unicos):\n",
    "        if lista_repeticiones[i] > maximo:\n",
    "            moda = lista_unicos[i]\n",
    "            maximo = lista_repeticiones[i]\n",
    "    return moda, maximo"
   ]
  },
  {
   "cell_type": "code",
   "execution_count": 26,
   "metadata": {},
   "outputs": [
    {
     "data": {
      "text/plain": [
       "'El valor modal es: 7, se repite 5 veces'"
      ]
     },
     "execution_count": 26,
     "metadata": {},
     "output_type": "execute_result"
    }
   ],
   "source": [
    "modal(lista_nueva)"
   ]
  },
  {
   "cell_type": "code",
   "execution_count": null,
   "metadata": {},
   "outputs": [],
   "source": [
    "def es_primo(numero):\n",
    "    if numero <= 1:\n",
    "        return False\n",
    "    divisor = 2\n",
    "    while divisor * divisor <= numero:\n",
    "        if numero % divisor == 0:\n",
    "            return False\n",
    "        divisor += 1\n",
    "    return True\n",
    "\n",
    "# Ejemplo de uso\n",
    "print(es_primo(7))  # Salida: True, porque 7 es primo\n",
    "print(es_primo(12)) # Salida: False, porque 12 no es primo\n"
   ]
  },
  {
   "cell_type": "code",
   "execution_count": null,
   "metadata": {},
   "outputs": [],
   "source": []
  },
  {
   "attachments": {},
   "cell_type": "markdown",
   "metadata": {},
   "source": [
    "4) Crear una función que convierta entre grados Celsius, Farenheit y Kelvin<br>\n",
    "Fórmula 1\t: (°C × 9/5) + 32 = °F<br>\n",
    "Fórmula 2\t: °C + 273.15 = °K<br>\n",
    "Debe recibir 3 parámetros: el valor, la medida de orígen y la medida de destino\n"
   ]
  },
  {
   "cell_type": "code",
   "execution_count": 3,
   "metadata": {},
   "outputs": [],
   "source": [
    "\n",
    "def conversor_grados(grados,origen,destino):\n",
    "\n",
    "    if origen == 'celsius':\n",
    "        if destino == 'celsius':\n",
    "            resultado= grados\n",
    "        elif destino == 'farenheit':\n",
    "            resultado= (grados*9/5)+32\n",
    "        elif destino == 'kelvin':\n",
    "            resultado= grados+273.15\n",
    "\n",
    "    elif  origen == 'farenheit':\n",
    "        if destino == 'celsius':\n",
    "            resultado= (grados-32)* 5/9\n",
    "        elif destino == 'kelvin':\n",
    "            resultado= ((grados-32)* 5/9)+273.15\n",
    "        elif destino=='farenheit':\n",
    "            resultado=grados\n",
    "\n",
    "    elif origen == 'kelvin':\n",
    "        if destino == 'celsius':\n",
    "            resultado= grados - 273.15\n",
    "        elif destino == 'farenheit':\n",
    "            resultado= ((grados-273.15)*9/5)+32\n",
    "        elif destino == 'kelvin':\n",
    "            resultado = grados \n",
    "    return resultado\n",
    "\n",
    "    \n",
    "            \n",
    "            \n",
    "\n"
   ]
  },
  {
   "cell_type": "code",
   "execution_count": 6,
   "metadata": {},
   "outputs": [
    {
     "data": {
      "text/plain": [
       "274.15"
      ]
     },
     "execution_count": 6,
     "metadata": {},
     "output_type": "execute_result"
    }
   ],
   "source": [
    "conversor_grados(1,'celsius','kelvin')"
   ]
  },
  {
   "attachments": {},
   "cell_type": "markdown",
   "metadata": {},
   "source": [
    "5) Iterando una lista con los tres valores posibles de temperatura que recibe la función del punto 5, hacer un print para cada combinación de los mismos:"
   ]
  },
  {
   "cell_type": "code",
   "execution_count": null,
   "metadata": {},
   "outputs": [],
   "source": []
  },
  {
   "attachments": {},
   "cell_type": "markdown",
   "metadata": {},
   "source": [
    "6) Armar una función que devuelva el factorial de un número. Tener en cuenta que el usuario puede equivocarse y enviar de parámetro un número no entero o negativo"
   ]
  },
  {
   "cell_type": "code",
   "execution_count": 1,
   "metadata": {},
   "outputs": [],
   "source": [
    "def factorial(numero):\n",
    "\n",
    "    if type(numero) != int:\n",
    "        return 'El numero debe ser un entero'\n",
    "   \n",
    "    if numero < 0:\n",
    "        return 'El numero debe ser positivo'\n",
    "    \n",
    "    \n",
    "    if numero <= 1:\n",
    "        return 1\n",
    "    \n",
    "    else: \n",
    "        numero = numero*factorial(numero-1)\n",
    "        return numero\n"
   ]
  },
  {
   "cell_type": "code",
   "execution_count": 13,
   "metadata": {},
   "outputs": [],
   "source": [
    "def factorial2 (num):\n",
    "    resultado = 1\n",
    "    for i in range (1,num+1):\n",
    "        resultado *= i\n",
    "    return resultado\n",
    "\n"
   ]
  },
  {
   "cell_type": "code",
   "execution_count": 34,
   "metadata": {},
   "outputs": [
    {
     "name": "stdout",
     "output_type": "stream",
     "text": [
      "10\n"
     ]
    }
   ],
   "source": [
    "num = 1\n",
    "while num <= 9:\n",
    "    num +=1\n",
    "print(num)"
   ]
  },
  {
   "cell_type": "code",
   "execution_count": 35,
   "metadata": {},
   "outputs": [],
   "source": [
    "def numerocapicua(num):\n",
    "    if not isinstance(num,int):\n",
    "        return None\n",
    "    longitud = len(str(num))\n",
    "    for i in range(longitud//2):\n",
    "        if str(num)[i] != str(num)[longitud - i -1]:\n",
    "            return False\n",
    "    return True"
   ]
  },
  {
   "cell_type": "code",
   "execution_count": 37,
   "metadata": {},
   "outputs": [
    {
     "data": {
      "text/plain": [
       "False"
      ]
     },
     "execution_count": 37,
     "metadata": {},
     "output_type": "execute_result"
    }
   ],
   "source": [
    "numerocapicua(2013)"
   ]
  },
  {
   "cell_type": "code",
   "execution_count": 38,
   "metadata": {},
   "outputs": [
    {
     "name": "stdout",
     "output_type": "stream",
     "text": [
      "['python', 'es', 'divertido']\n"
     ]
    }
   ],
   "source": [
    "s = 'python es divertido'\n",
    "print(s.split())"
   ]
  },
  {
   "cell_type": "code",
   "execution_count": null,
   "metadata": {},
   "outputs": [],
   "source": []
  }
 ],
 "metadata": {
  "interpreter": {
   "hash": "c85384e4cb51c8b72350f3a8712cc8351fdc3955e32a27f9b60c6242ab125f01"
  },
  "kernelspec": {
   "display_name": "Python 3 (ipykernel)",
   "language": "python",
   "name": "python3"
  },
  "language_info": {
   "codemirror_mode": {
    "name": "ipython",
    "version": 3
   },
   "file_extension": ".py",
   "mimetype": "text/x-python",
   "name": "python",
   "nbconvert_exporter": "python",
   "pygments_lexer": "ipython3",
   "version": "3.12.0"
  }
 },
 "nbformat": 4,
 "nbformat_minor": 4
}
