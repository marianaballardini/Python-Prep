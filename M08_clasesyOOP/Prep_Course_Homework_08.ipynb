{
 "cells": [
  {
   "attachments": {},
   "cell_type": "markdown",
   "metadata": {},
   "source": [
    "## Clases y Programación Orientada a Objetos"
   ]
  },
  {
   "attachments": {},
   "cell_type": "markdown",
   "metadata": {},
   "source": [
    "1) Crear la clase vehículo que contenga los atributos:<br>\n",
    "Color<br>\n",
    "Si es moto, auto, camioneta ó camión<br>\n",
    "Cilindrada del motor"
   ]
  },
  {
   "cell_type": "code",
   "execution_count": 5,
   "metadata": {},
   "outputs": [],
   "source": [
    "class Vehiculo:\n",
    "    def __init__(self,color,tipo,cilindrada):\n",
    "        self.color = color\n",
    "        self.tipo = tipo\n",
    "        self.cilindrada = cilindrada\n",
    "    \n",
    "\n",
    "\n"
   ]
  },
  {
   "attachments": {},
   "cell_type": "markdown",
   "metadata": {},
   "source": [
    "2) A la clase Vehiculo creada en el punto 1, agregar los siguientes métodos:<br>\n",
    "Acelerar<br>\n",
    "Frenar<br>\n",
    "Doblar<br>"
   ]
  },
  {
   "cell_type": "markdown",
   "metadata": {},
   "source": []
  },
  {
   "cell_type": "code",
   "execution_count": 6,
   "metadata": {},
   "outputs": [],
   "source": [
    "class Vehiculo:\n",
    "    def __init__(self,color,tipo,cilindrada):\n",
    "        self.color = color\n",
    "        self.tipo= tipo\n",
    "        self.cilindrada = cilindrada\n",
    "        self.direccion = 0\n",
    "        self.velocimetro = 0\n",
    "         \n",
    "    def Acelerar (self,velocidad):\n",
    "        self.velocimetro += velocidad\n",
    "    def Frenar (self, velocidad):\n",
    "        self.velocimetro -= velocidad\n",
    "    def Doblar (self,grados):\n",
    "        self.direccion += grados\n",
    "\n",
    "\n",
    "\n",
    "\n"
   ]
  },
  {
   "attachments": {},
   "cell_type": "markdown",
   "metadata": {},
   "source": [
    "3) Instanciar 3 objetos de la clase vehículo y ejecutar sus métodos, probar luego el resultado"
   ]
  },
  {
   "cell_type": "code",
   "execution_count": 44,
   "metadata": {},
   "outputs": [],
   "source": [
    "auto = Vehiculo('rojo','automovil','1.3',)\n",
    "moto = Vehiculo('negra','motocicleta', '110')\n",
    "chata = Vehiculo ('celeste','van','1.8')"
   ]
  },
  {
   "cell_type": "code",
   "execution_count": 43,
   "metadata": {},
   "outputs": [
    {
     "name": "stdout",
     "output_type": "stream",
     "text": [
      "La direccion del auto es: 100\n",
      "La velocidad de la moto es: 20\n",
      "La velocidad de la chata es: 140\n"
     ]
    }
   ],
   "source": [
    "auto.Doblar(50)\n",
    "print(\"La direccion del auto es:\" , auto.direccion)\n",
    "\n",
    "moto.Acelerar(10)\n",
    "moto.velocimetro\n",
    "print('La velocidad de la moto es:' , moto.velocimetro)\n",
    "\n",
    "chata.Acelerar(120)\n",
    "chata.Frenar(50)\n",
    "print('La velocidad de la chata es:' , chata.velocimetro)"
   ]
  },
  {
   "attachments": {},
   "cell_type": "markdown",
   "metadata": {},
   "source": [
    "4) Agregar a la clase Vehiculo, un método que muestre su estado, es decir, a que velocidad se encuentra y su dirección. Y otro método que muestre color, tipo y cilindrada"
   ]
  },
  {
   "cell_type": "code",
   "execution_count": 41,
   "metadata": {},
   "outputs": [],
   "source": [
    "class Vehiculo:\n",
    "    def __init__(self,color,tipo,cilindrada):\n",
    "        self.color = color\n",
    "        self.tipo= tipo\n",
    "        self.cilindrada = cilindrada\n",
    "        self.direccion = 0\n",
    "        self.velocimetro = 0\n",
    "     \n",
    "         \n",
    "    def Acelerar (self,velocidad):\n",
    "        self.velocimetro += velocidad\n",
    "    def Frenar (self, velocidad):\n",
    "        self.velocimetro -= velocidad\n",
    "    def Doblar (self,grados):\n",
    "        self.direccion += grados\n",
    "    def Estado_actual (self):\n",
    "        print('El estado actual del vehiculo es:', 'velocidad:', self.velocimetro, 'direccion:' , self.direccion )\n",
    "    def ficha_tecnica(self):\n",
    "        print('Ficha tecnica del vehiculo:', 'color:',self.color, 'tipo:' , self.tipo , 'cilindrada:', self.cilindrada)"
   ]
  },
  {
   "cell_type": "code",
   "execution_count": 45,
   "metadata": {},
   "outputs": [
    {
     "name": "stdout",
     "output_type": "stream",
     "text": [
      "El estado actual del vehiculo es: velocidad: 0 direccion: 0\n"
     ]
    }
   ],
   "source": [
    "auto.Estado_actual()\n"
   ]
  },
  {
   "attachments": {},
   "cell_type": "markdown",
   "metadata": {},
   "source": [
    "5) Crear una clase que permita utilizar las funciones creadas en la práctica del módulo 7<br>\n",
    "Verificar Primo<br>\n",
    "Valor modal<br>\n",
    "Conversión grados<br>\n",
    "Factorial<br>"
   ]
  },
  {
   "cell_type": "code",
   "execution_count": 11,
   "metadata": {},
   "outputs": [],
   "source": [
    "class funciones_m7:\n",
    "    def __init__(self):\n",
    "        pass\n",
    "\n",
    "    def verifica_primo(self,nro):\n",
    "        es_primo = True  \n",
    "        for i in range(2, nro):  \n",
    "            if nro % i == 0:  \n",
    "                es_primo = False  \n",
    "                break  \n",
    "        return es_primo\n",
    "\n",
    "    def modal (self,lista):\n",
    "        lista_repetidos = []\n",
    "        lista_unicos =[]\n",
    "        \n",
    "        for numero in lista:\n",
    "            if numero in lista_unicos:\n",
    "                i = lista_unicos.index(numero)\n",
    "                lista_repetidos[i] += 1\n",
    "            else:            \n",
    "                lista_unicos.append(numero)\n",
    "                lista_repetidos.append(1)\n",
    "\n",
    "            moda = lista_unicos [0]\n",
    "            maximo = lista_repetidos [0]\n",
    "\n",
    "            for i, numero in enumerate(lista_unicos):\n",
    "                if lista_repetidos [i] > maximo:\n",
    "                    moda=lista_unicos[i]\n",
    "                    maximo= lista_repetidos[i]\n",
    "        \n",
    "        return \"El valor modal es: \" + str(moda) + ', se repite '+ str(maximo)+  ' veces'        \n",
    "   \n",
    "    def conversor_grados(grados,origen,destino):\n",
    "\n",
    "        if origen == 'celsius':\n",
    "            if destino == 'celsius':\n",
    "                resultado= grados\n",
    "            elif destino == 'farenheit':\n",
    "                resultado= (grados*9/5)+32\n",
    "            elif destino == 'kelvin':\n",
    "                resultado= grados+273.15\n",
    "\n",
    "        elif  origen == 'farenheit':\n",
    "            if destino == 'celsius':\n",
    "                resultado= (grados-32)* 5/9\n",
    "            elif destino == 'kelvin':\n",
    "                resultado= ((grados-32)* 5/9)+273.15\n",
    "            elif destino=='farenheit':\n",
    "                resultado=grados\n",
    "\n",
    "        elif origen == 'kelvin':\n",
    "            if destino == 'celsius':\n",
    "                resultado= grados - 273.15\n",
    "            elif destino == 'farenheit':\n",
    "                resultado= ((grados-273.15)*9/5)+32\n",
    "            elif destino == 'kelvin':\n",
    "                resultado = grados \n",
    "        return resultado\n",
    "    \n",
    "    def factorial(self,numero):\n",
    "\n",
    "        if type(numero) != int:\n",
    "            return 'El numero debe ser un entero'\n",
    "    \n",
    "        if numero < 0:\n",
    "            return 'El numero debe ser positivo'\n",
    "        \n",
    "        \n",
    "        if numero <= 1:\n",
    "            return 1\n",
    "        \n",
    "        else: \n",
    "            numero = numero*self.factorial(numero-1)\n",
    "            return numero\n",
    "                        "
   ]
  },
  {
   "attachments": {},
   "cell_type": "markdown",
   "metadata": {},
   "source": [
    "6) Probar las funciones incorporadas en la clase del punto 5"
   ]
  },
  {
   "cell_type": "code",
   "execution_count": 12,
   "metadata": {},
   "outputs": [],
   "source": [
    "objeto_funciones = funciones_m7()\n",
    "#objeto/instancia| clase"
   ]
  },
  {
   "cell_type": "code",
   "execution_count": 13,
   "metadata": {},
   "outputs": [
    {
     "name": "stdout",
     "output_type": "stream",
     "text": [
      "120\n"
     ]
    }
   ],
   "source": [
    "print(objeto_funciones.factorial(5))\n",
    "# objeto/instancia | método de la clase"
   ]
  },
  {
   "attachments": {},
   "cell_type": "markdown",
   "metadata": {},
   "source": [
    "7) Es necesario que la clase creada en el punto 5 contenga una lista, sobre la cual se apliquen las funciones incorporadas"
   ]
  },
  {
   "cell_type": "code",
   "execution_count": 14,
   "metadata": {},
   "outputs": [],
   "source": [
    "class funciones_m7:\n",
    "    def __init__(self,lista1):\n",
    "        self.lista = lista1\n",
    "        \n",
    "    def verifica_primo (self):\n",
    "        for i in self.lista:\n",
    "            if  self.__verifica_primo(i):\n",
    "                print(f'El valor {i} es primo')\n",
    "            else:\n",
    "                print(f'El valor{i} no es primo')\n",
    "            \n",
    "    def __verifica_primo(self,nro):\n",
    "        es_primo = True  \n",
    "        for i in range(2, nro):  \n",
    "            if nro % i == 0:  \n",
    "                es_primo = False  \n",
    "                break  \n",
    "        return es_primo\n",
    "\n",
    "    def modal (self):\n",
    "        lista_repetidos = []\n",
    "        lista_unicos =[]\n",
    "        \n",
    "        for numero in self.lista:\n",
    "            if numero in lista_unicos:\n",
    "                i = lista_unicos.index(numero)\n",
    "                lista_repetidos[i] += 1\n",
    "            else:            \n",
    "                lista_unicos.append(numero)\n",
    "                lista_repetidos.append(1)\n",
    "\n",
    "            moda = lista_unicos [0]\n",
    "            maximo = lista_repetidos [0]\n",
    "\n",
    "            for i, numero in enumerate(lista_unicos):\n",
    "                if lista_repetidos [i] > maximo:\n",
    "                    moda=lista_unicos[i]\n",
    "                    maximo= lista_repetidos[i]\n",
    "        \n",
    "        return \"El valor modal es: \" + str(moda) + ', se repite '+ str(maximo)+  ' veces'    \n",
    "        \n",
    "    def conversor_grados (self,origen, destino):\n",
    "        for i in self.lista:\n",
    "            print(f'El valor {i} de {origen} convertido a {destino} es: {self.__conversor_grados(i,origen,destino)}')\n",
    "\n",
    "    def __conversor_grados(self, grados,origen,destino):\n",
    "\n",
    "        if origen == 'celsius':\n",
    "            if destino == 'celsius':\n",
    "                resultado= grados\n",
    "            elif destino == 'farenheit':\n",
    "                resultado= (grados*9/5)+32\n",
    "            elif destino == 'kelvin':\n",
    "                resultado= grados+273.15\n",
    "\n",
    "        elif  origen == 'farenheit':\n",
    "            if destino == 'celsius':\n",
    "                resultado= (grados-32)* 5/9\n",
    "            elif destino == 'kelvin':\n",
    "                resultado= ((grados-32)* 5/9)+273.15\n",
    "            elif destino=='farenheit':\n",
    "                resultado=grados\n",
    "\n",
    "        elif origen == 'kelvin':\n",
    "            if destino == 'celsius':\n",
    "                resultado= grados - 273.15\n",
    "            elif destino == 'farenheit':\n",
    "                resultado= ((grados-273.15)*9/5)+32\n",
    "            elif destino == 'kelvin':\n",
    "                resultado = grados \n",
    "        return resultado\n",
    "    \n",
    "    def factorial (self):\n",
    "        for i in self.lista:\n",
    "            print(f'El factorial de {i} es: {self.__factorial(i)}')\n",
    "\n",
    "    def __factorial(self,numero):\n",
    "\n",
    "        if type(numero) != int:\n",
    "            return 'El numero debe ser un entero'\n",
    "    \n",
    "        if numero < 0:\n",
    "            return 'El numero debe ser positivo'\n",
    "        \n",
    "        \n",
    "        if numero <= 1:\n",
    "            return 1\n",
    "        \n",
    "        else: \n",
    "            numero = numero*self.__factorial(numero-1)\n",
    "            return numero\n",
    "                        "
   ]
  },
  {
   "cell_type": "code",
   "execution_count": 15,
   "metadata": {},
   "outputs": [],
   "source": [
    "lista1= [1,2,3,4,5,5,5,6]\n",
    "objeto = funciones_m7(lista1)\n",
    "\n"
   ]
  },
  {
   "cell_type": "code",
   "execution_count": 16,
   "metadata": {},
   "outputs": [
    {
     "name": "stdout",
     "output_type": "stream",
     "text": [
      "El valor 1 es primo\n",
      "El valor 2 es primo\n",
      "El valor 3 es primo\n",
      "El valor4 no es primo\n",
      "El valor 5 es primo\n",
      "El valor 5 es primo\n",
      "El valor 5 es primo\n",
      "El valor6 no es primo\n",
      "None\n"
     ]
    }
   ],
   "source": [
    "print(objeto.verifica_primo())\n"
   ]
  },
  {
   "cell_type": "code",
   "execution_count": 17,
   "metadata": {},
   "outputs": [
    {
     "name": "stdout",
     "output_type": "stream",
     "text": [
      "El valor modal es: 5, se repite 3 veces\n"
     ]
    }
   ],
   "source": [
    "print(objeto.modal())"
   ]
  },
  {
   "cell_type": "code",
   "execution_count": 18,
   "metadata": {},
   "outputs": [
    {
     "name": "stdout",
     "output_type": "stream",
     "text": [
      "El valor 1 de celsius convertido a farenheit es: 33.8\n",
      "El valor 2 de celsius convertido a farenheit es: 35.6\n",
      "El valor 3 de celsius convertido a farenheit es: 37.4\n",
      "El valor 4 de celsius convertido a farenheit es: 39.2\n",
      "El valor 5 de celsius convertido a farenheit es: 41.0\n",
      "El valor 5 de celsius convertido a farenheit es: 41.0\n",
      "El valor 5 de celsius convertido a farenheit es: 41.0\n",
      "El valor 6 de celsius convertido a farenheit es: 42.8\n",
      "None\n"
     ]
    }
   ],
   "source": [
    "print(objeto.conversor_grados('celsius' , 'farenheit'))"
   ]
  },
  {
   "cell_type": "code",
   "execution_count": 19,
   "metadata": {},
   "outputs": [
    {
     "name": "stdout",
     "output_type": "stream",
     "text": [
      "El factorial de 1 es: 1\n",
      "El factorial de 2 es: 2\n",
      "El factorial de 3 es: 6\n",
      "El factorial de 4 es: 24\n",
      "El factorial de 5 es: 120\n",
      "El factorial de 5 es: 120\n",
      "El factorial de 5 es: 120\n",
      "El factorial de 6 es: 720\n",
      "None\n"
     ]
    }
   ],
   "source": [
    "print(objeto.factorial())"
   ]
  },
  {
   "attachments": {},
   "cell_type": "markdown",
   "metadata": {},
   "source": [
    "8) Crear un archivo .py aparte y ubicar allí la clase generada en el punto anterior. Luego realizar la importación del módulo y probar alguna de sus funciones"
   ]
  },
  {
   "cell_type": "code",
   "execution_count": 20,
   "metadata": {},
   "outputs": [],
   "source": [
    "from clasefunciones import funciones_m7\n"
   ]
  },
  {
   "cell_type": "code",
   "execution_count": 21,
   "metadata": {},
   "outputs": [],
   "source": [
    "obj1= funciones_m7([1,2,3,4,5,5,5,6,7])"
   ]
  },
  {
   "cell_type": "code",
   "execution_count": 22,
   "metadata": {},
   "outputs": [
    {
     "name": "stdout",
     "output_type": "stream",
     "text": [
      "El valor 1 es primo\n",
      "El valor 2 es primo\n",
      "El valor 3 es primo\n",
      "El valor4 no es primo\n",
      "El valor 5 es primo\n",
      "El valor 5 es primo\n",
      "El valor 5 es primo\n",
      "El valor6 no es primo\n",
      "El valor 7 es primo\n"
     ]
    }
   ],
   "source": [
    "obj1.verifica_primo()"
   ]
  },
  {
   "cell_type": "code",
   "execution_count": 23,
   "metadata": {},
   "outputs": [
    {
     "name": "stdout",
     "output_type": "stream",
     "text": [
      "El factorial de1 es 1\n",
      "El factorial de2 es 2\n",
      "El factorial de3 es 6\n",
      "El factorial de4 es 24\n",
      "El factorial de5 es 120\n",
      "El factorial de5 es 120\n",
      "El factorial de5 es 120\n",
      "El factorial de6 es 720\n",
      "El factorial de7 es 5040\n"
     ]
    }
   ],
   "source": [
    "obj1.factorial()"
   ]
  },
  {
   "cell_type": "code",
   "execution_count": 24,
   "metadata": {},
   "outputs": [
    {
     "name": "stdout",
     "output_type": "stream",
     "text": [
      "El valor 1 de farenheit convertido a celsius es: -17.22222222222222\n",
      "El valor 2 de farenheit convertido a celsius es: -16.666666666666668\n",
      "El valor 3 de farenheit convertido a celsius es: -16.11111111111111\n",
      "El valor 4 de farenheit convertido a celsius es: -15.555555555555555\n",
      "El valor 5 de farenheit convertido a celsius es: -15.0\n",
      "El valor 5 de farenheit convertido a celsius es: -15.0\n",
      "El valor 5 de farenheit convertido a celsius es: -15.0\n",
      "El valor 6 de farenheit convertido a celsius es: -14.444444444444445\n",
      "El valor 7 de farenheit convertido a celsius es: -13.88888888888889\n"
     ]
    }
   ],
   "source": [
    "obj1.conversor_grados('farenheit','celsius')"
   ]
  },
  {
   "cell_type": "code",
   "execution_count": 25,
   "metadata": {},
   "outputs": [
    {
     "data": {
      "text/plain": [
       "'El valor modal es: 5, se repite 3 veces'"
      ]
     },
     "execution_count": 25,
     "metadata": {},
     "output_type": "execute_result"
    }
   ],
   "source": [
    "obj1.modal()"
   ]
  },
  {
   "cell_type": "code",
   "execution_count": null,
   "metadata": {},
   "outputs": [],
   "source": []
  },
  {
   "cell_type": "code",
   "execution_count": null,
   "metadata": {},
   "outputs": [],
   "source": []
  }
 ],
 "metadata": {
  "interpreter": {
   "hash": "c85384e4cb51c8b72350f3a8712cc8351fdc3955e32a27f9b60c6242ab125f01"
  },
  "kernelspec": {
   "display_name": "Python 3 (ipykernel)",
   "language": "python",
   "name": "python3"
  },
  "language_info": {
   "codemirror_mode": {
    "name": "ipython",
    "version": 3
   },
   "file_extension": ".py",
   "mimetype": "text/x-python",
   "name": "python",
   "nbconvert_exporter": "python",
   "pygments_lexer": "ipython3",
   "version": "3.12.0"
  }
 },
 "nbformat": 4,
 "nbformat_minor": 4
}
