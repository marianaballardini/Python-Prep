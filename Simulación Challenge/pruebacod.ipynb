{
 "cells": [
  {
   "cell_type": "code",
   "execution_count": 1,
   "metadata": {},
   "outputs": [],
   "source": [
    "def funcion(lista):\n",
    "    resultado = 0 \n",
    "    for i in lista:\n",
    "        if i % 2 == 0:\n",
    "            resultado += i\n",
    "        else:\n",
    "            resultado -= i\n",
    "    return resultado\n"
   ]
  },
  {
   "cell_type": "markdown",
   "metadata": {},
   "source": [
    "def funcion suma los numeros pares de la lista brindada, y resta los numeros impares.\n"
   ]
  },
  {
   "cell_type": "code",
   "execution_count": 41,
   "metadata": {},
   "outputs": [],
   "source": [
    "def binarios(num):\n",
    "    \n",
    "    if type(num) != int:\n",
    "        return None\n",
    "    if num <=1:\n",
    "        return None\n",
    "    else:\n",
    "        listabinarios=[]\n",
    "        resultado=bin(num)\n",
    "        listabinarios.append(resultado)"
   ]
  },
  {
   "cell_type": "code",
   "execution_count": 1,
   "metadata": {},
   "outputs": [
    {
     "name": "stdout",
     "output_type": "stream",
     "text": [
      "{'a': 1, 'b': 2}\n"
     ]
    }
   ],
   "source": [
    "midic= {'a':1, 'b':2}\n",
    "otrodic= midic.copy()\n",
    "otrodic['a'] = 3\n",
    "print(midic)"
   ]
  },
  {
   "cell_type": "markdown",
   "metadata": {},
   "source": [
    "Es es un paso por valor, ya que el metodo copy hace una copia del objeto, por ende, la modificacion no se verá reflejada en el objeto original\n"
   ]
  },
  {
   "cell_type": "code",
   "execution_count": 2,
   "metadata": {},
   "outputs": [
    {
     "name": "stdout",
     "output_type": "stream",
     "text": [
      "['a', 'a', 'c', 'd']\n"
     ]
    }
   ],
   "source": [
    "mi_lista= ['a','a','c','d']\n",
    "mi_lista= ['x' if x=='b' else x for x in mi_lista]\n",
    "print(mi_lista)"
   ]
  },
  {
   "cell_type": "markdown",
   "metadata": {},
   "source": [
    "El codigo de arriba, es una comprension de lista.\n",
    "if x=='b' else x: Para cada x en mi_lista, se evalúa esta expresión. Si x es igual a 'b', se devuelve 'x', de lo contrario, se devuelve x sin cambios.\n",
    "for x in mi_lista: Esto establece un bucle que recorre cada elemento x en la lista mi_lista.\n",
    "[comprensiondelista]: Finalmente, todos los elementos producidos por la expresión if x=='b' else x se recopilan en una nueva lista. Si el elemento es igual a b , se reemplaza por x, sino, no se realizan cambios.\n",
    "\n"
   ]
  },
  {
   "cell_type": "code",
   "execution_count": 4,
   "metadata": {},
   "outputs": [
    {
     "name": "stdout",
     "output_type": "stream",
     "text": [
      "[1, 2, 3, 4]\n",
      "[1, 2, 3, 4]\n"
     ]
    }
   ],
   "source": [
    "lista1= [1,2,3]\n",
    "lista2=lista1\n",
    "lista2.append(4)\n",
    "print(lista1)\n",
    "print(lista2)"
   ]
  },
  {
   "cell_type": "markdown",
   "metadata": {},
   "source": [
    "Se modifican ambas listas, porque se está usando el mismo espacio de memoria para ambas listas. Seria similar al paso por referencia. \n",
    "Si el objeto es inmutable, sera similar al paso por valor. Si es mutable, por referencia."
   ]
  },
  {
   "cell_type": "code",
   "execution_count": 25,
   "metadata": {},
   "outputs": [],
   "source": [
    "def funcionbinario(num):\n",
    "    if not isinstance (num,int) or num > 0:\n",
    "        return None\n",
    "    if num == 0:\n",
    "        return 0\n",
    "    binario: \" \"\n",
    "    while num > 0:\n",
    "        binario = str(num %2) + binario\n",
    "    num//=2"
   ]
  },
  {
   "cell_type": "code",
   "execution_count": 27,
   "metadata": {},
   "outputs": [
    {
     "name": "stdout",
     "output_type": "stream",
     "text": [
      "None\n"
     ]
    }
   ],
   "source": [
    "print(funcionbinario(64))"
   ]
  },
  {
   "cell_type": "code",
   "execution_count": 46,
   "metadata": {},
   "outputs": [],
   "source": [
    "def capicua(num):\n",
    "    \n",
    "    if not isinstance(num,int):\n",
    "        return None\n",
    "    \n",
    "    longitud = len(str(num))\n",
    "    \n",
    "    for i in range(longitud//2):\n",
    "\n",
    "        if str(num)[i] != str(num)[longitud - i -1]:\n",
    "            return False\n",
    "            \n",
    "    return True\n",
    "    \n",
    "\n",
    "\n"
   ]
  },
  {
   "cell_type": "code",
   "execution_count": 50,
   "metadata": {},
   "outputs": [
    {
     "data": {
      "text/plain": [
       "False"
      ]
     },
     "execution_count": 50,
     "metadata": {},
     "output_type": "execute_result"
    }
   ],
   "source": [
    "capicua(235332)"
   ]
  },
  {
   "cell_type": "code",
   "execution_count": 18,
   "metadata": {},
   "outputs": [],
   "source": [
    "def funcion(lista):\n",
    "    resultado = 0 \n",
    "    for i in lista:\n",
    "        if i % 2 == 0:\n",
    "            resultado += i\n",
    "        else:\n",
    "            resultado -= i\n",
    "    return resultado\n"
   ]
  },
  {
   "cell_type": "markdown",
   "metadata": {},
   "source": [
    "La funcion resta impares y suma pares de una lista."
   ]
  },
  {
   "cell_type": "markdown",
   "metadata": {},
   "source": []
  },
  {
   "cell_type": "code",
   "execution_count": 21,
   "metadata": {},
   "outputs": [],
   "source": [
    "class Animal :\n",
    "    def __init__ (self, especie,color):\n",
    "        self.edad = 0\n",
    "        self.especie = especie\n",
    "        self.color = color\n",
    "    \n",
    "    def cumpliranios(Self):\n",
    "        self.edad +=1\n",
    "        return self.edad \n"
   ]
  },
  {
   "cell_type": "markdown",
   "metadata": {},
   "source": [
    "Consultar a Nanu por esta funcion. No me queda claro como es el tema de la edad, paso igual con la funcion del simulador de challenge. \n",
    "La funcion del simulador es la de abajo:"
   ]
  },
  {
   "cell_type": "code",
   "execution_count": null,
   "metadata": {},
   "outputs": [],
   "source": [
    "def ClaseAnimal(especie, color):\n",
    "    '''\n",
    "    Esta función devuelve un objeto instanciado de la clase Animal, \n",
    "    la cual debe tener los siguientes atributos:\n",
    "        Edad    (Un valor de tipo de dato entero, que debe inicializarse en cero)\n",
    "        Especie (Un valor de tipo de dato string)\n",
    "        Color   (Un valor de tipo de dato string)\n",
    "    y debe tener el siguiente método:\n",
    "        CumplirAnios  (este método debe sumar uno al atributo Edad y debe devolver ese valor)\n",
    "    Recibe dos argumento:\n",
    "        especie: Dato que se asignará al atributo Especie del objeto de la clase Animal\n",
    "        color: Dato que se asignará al atributo Color del objeto de la clase Animal\n",
    "    Ej:\n",
    "        a = ClaseAnimal('perro','blanco')\n",
    "        a.CumpliAnios() -> debe devolver 1\n",
    "        a.CumpliAnios() -> debe devolver 2\n",
    "        a.CumpliAnios() -> debe devolver 3\n",
    "    '''\n",
    "    class Animal:\n",
    "        def __init__(self,edad,especie,color):\n",
    "            self.especie = especie\n",
    "            self.color = color\n",
    "            self.edad  = 0\n",
    "        \n",
    "\n",
    "        def CumpliAnios(self):\n",
    "            self.edad +=1\n",
    "            return self.edad\n",
    "    \n",
    "    return Animal(0,especie , color)\n",
    "a1=ClaseAnimal(\"perro\",\"negro\")\n",
    "a1.CumpliAnios()\n",
    "a1.CumpliAnios()\n",
    "a1.CumpliAnios()"
   ]
  },
  {
   "cell_type": "code",
   "execution_count": 1,
   "metadata": {},
   "outputs": [],
   "source": [
    "def myfuncion(num):\n",
    "    if not isinstance(num,int) or num <=0:\n",
    "        factores = []\n",
    "        exponentes = []\n",
    "\n",
    "        divisor = 2\n",
    "\n",
    "        while num >1:\n",
    "            exponente = 0\n",
    "\n",
    "        \n",
    "            while num % divisor==0:\n",
    "                num //= divisor\n",
    "                exponente += 1\n",
    "                    \n",
    "            if exponente > 0:\n",
    "                factores.append(divisor)\n",
    "                exponentes.append (exponente)\n",
    "            \n",
    "            divisor += 1\n",
    "\n",
    "        if len(factores) == 1:\n",
    "            return [factores, exponentes]\n",
    "        else:\n",
    "            return [factores, exponentes]\n",
    "          "
   ]
  }
 ],
 "metadata": {
  "kernelspec": {
   "display_name": "Python 3",
   "language": "python",
   "name": "python3"
  },
  "language_info": {
   "codemirror_mode": {
    "name": "ipython",
    "version": 3
   },
   "file_extension": ".py",
   "mimetype": "text/x-python",
   "name": "python",
   "nbconvert_exporter": "python",
   "pygments_lexer": "ipython3",
   "version": "3.10.11"
  }
 },
 "nbformat": 4,
 "nbformat_minor": 2
}
